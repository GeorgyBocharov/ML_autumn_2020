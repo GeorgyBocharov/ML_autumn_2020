{
 "cells": [
  {
   "cell_type": "code",
   "execution_count": 28,
   "metadata": {
    "colab": {},
    "colab_type": "code",
    "id": "09bMmYOYigIB"
   },
   "outputs": [],
   "source": [
    "import string\n",
    "import os\n",
    "import numpy as np\n",
    "from matplotlib import pyplot as plt"
   ]
  },
  {
   "cell_type": "code",
   "execution_count": 29,
   "metadata": {
    "colab": {},
    "colab_type": "code",
    "id": "lxdokX-XigIF"
   },
   "outputs": [],
   "source": [
    "with open('eminem.txt', 'r') as iofile:\n",
    "    text = iofile.readlines()\n",
    "    "
   ]
  },
  {
   "cell_type": "markdown",
   "metadata": {},
   "source": [
    "link for eminem.txt : https://drive.google.com/file/d/19v1V3I8MHy8Y_K0DsNbdnEeYzj8uBq39/view?usp=sharing"
   ]
  },
  {
   "cell_type": "code",
   "execution_count": 30,
   "metadata": {
    "colab": {
     "base_uri": "https://localhost:8080/",
     "height": 34
    },
    "colab_type": "code",
    "id": "9FLNgffEigIH",
    "outputId": "cf2fdad3-84f5-4563-f646-ffb4a56067e2"
   },
   "outputs": [
    {
     "name": "stdout",
     "output_type": "stream",
     "text": [
      "OK!\n"
     ]
    }
   ],
   "source": [
    "import string\n",
    "\n",
    "text = ''.join(text).lower()\n",
    "\n",
    "\n",
    "\n",
    "assert not any([x in set(text) for x in string.ascii_uppercase]), 'Uppercase letters are present'\n",
    "print('OK!')"
   ]
  },
  {
   "cell_type": "code",
   "execution_count": 31,
   "metadata": {
    "colab": {},
    "colab_type": "code",
    "id": "AmNe29znH4P6"
   },
   "outputs": [],
   "source": [
    "junk = '0123456789[]{}…/å\"*'\n",
    "\n",
    "\n",
    "for i in range(len(junk)):\n",
    "    text = text.replace(junk[i], '')\n",
    "\n",
    "text = text.replace('\\n\\n', '\\n')\n",
    "text = text.replace('...', '.')\n",
    "text = text.replace('women singing:', '')\n",
    "text = text.replace('chorus:', '')\n",
    "text = text.replace('eminem:', '')\n",
    "text = text.replace('thyme:', '')\n",
    "text = text.replace('verse:', '')\n",
    "\n",
    "\n",
    "\n",
    "text = text.replace('–', ' ')\n",
    "text = text.replace('—', ' ')\n",
    "names = text.split('\\n')\n",
    "\n",
    "for line in names:\n",
    "    if (len(line)<19):\n",
    "        names.remove(line)\n"
   ]
  },
  {
   "cell_type": "code",
   "execution_count": 32,
   "metadata": {
    "colab": {},
    "colab_type": "code",
    "id": "DbjwFVLUigIP"
   },
   "outputs": [],
   "source": [
    "tokens = sorted(set(text))\n",
    "indexes = np.arange(0, len(tokens))"
   ]
  },
  {
   "cell_type": "code",
   "execution_count": 33,
   "metadata": {
    "colab": {},
    "colab_type": "code",
    "id": "APjenhWgigIS"
   },
   "outputs": [],
   "source": [
    "id_to_token = dict(zip(indexes, tokens))\n",
    "\n",
    "token_to_id = dict(zip(tokens, indexes))"
   ]
  },
  {
   "cell_type": "markdown",
   "metadata": {
    "colab_type": "text",
    "id": "rGVWm7JQigIU"
   },
   "source": [
    "### Building the model"
   ]
  },
  {
   "cell_type": "code",
   "execution_count": 40,
   "metadata": {
    "colab": {},
    "colab_type": "code",
    "id": "C6zVTvbjigIV"
   },
   "outputs": [],
   "source": [
    "from IPython.display import clear_output\n",
    "from random import sample\n",
    "from torch.autograd import Variable\n",
    "from torch import nn\n",
    "from torch import optim\n",
    "from IPython import display\n",
    "import torch.nn.functional as F\n",
    "import torch\n",
    "\n",
    "import matplotlib.pyplot as plt\n",
    "%matplotlib inline\n",
    "\n",
    "device = torch.device(\"cuda\") if torch.cuda.is_available() else torch.device(\"cpu\")\n",
    "\n",
    "max_line_length = max(map(len, names))\n",
    "tokens_amount = len(tokens)"
   ]
  },
  {
   "cell_type": "code",
   "execution_count": 41,
   "metadata": {
    "colab": {},
    "colab_type": "code",
    "id": "ygQwAhhCigIX"
   },
   "outputs": [],
   "source": [
    "def encrypt_batch(batch, max_len, pad=token_to_id[' '], dtype='int32', batch_first = True):\n",
    "    \n",
    "    max_len = max_len or max(map(len, batch))\n",
    "    result = np.zeros([len(batch), max_len], dtype) + pad\n",
    "\n",
    "    for i in range(len(batch)):\n",
    "        encrypted_line = [token_to_id[c] for c in batch[i]]\n",
    "        result[i, :len(encrypted_line)] = encrypted_line\n",
    "        \n",
    "    if not batch_first: \n",
    "        result = np.transpose(result)\n",
    "\n",
    "    return result"
   ]
  },
  {
   "cell_type": "code",
   "execution_count": 42,
   "metadata": {
    "colab": {},
    "colab_type": "code",
    "id": "pdxR6qcOigIa"
   },
   "outputs": [],
   "source": [
    "class VanillaRNN(nn.Module):\n",
    "    def __init__(self, tokens_amount=tokens_amount, emb_size=16, rnn_num_units=64):\n",
    "        super(self.__class__, self).__init__()\n",
    "        self.emb = nn.Embedding(tokens_amount, emb_size)\n",
    "        self.rnn = nn.RNN(emb_size, rnn_num_units, batch_first=True)\n",
    "        self.hid_to_logits = nn.Linear(rnn_num_units, tokens_amount)\n",
    "        \n",
    "    def forward(self, x, hidden=None):\n",
    "        h_seq, hidden = self.rnn(self.emb(x), hidden)\n",
    "        next_logits = self.hid_to_logits(h_seq)\n",
    "        next_logp = F.log_softmax(next_logits, dim=-1)\n",
    "        return next_logp, hidden\n",
    "    \n"
   ]
  },
  {
   "cell_type": "code",
   "execution_count": 43,
   "metadata": {
    "colab": {},
    "colab_type": "code",
    "id": "R-dyvZAimnRY"
   },
   "outputs": [],
   "source": [
    "model = VanillaRNN().to(device)\n",
    "optimzer = torch.optim.Adam(model.parameters())"
   ]
  },
  {
   "cell_type": "code",
   "execution_count": 44,
   "metadata": {
    "colab": {},
    "colab_type": "code",
    "id": "DoGyB6ycsos3"
   },
   "outputs": [],
   "source": [
    "#Plot the loss function (axis X: number of epochs, axis Y: loss function).\n",
    "def train_NN_and_plot_loss(model, optimizer, n_epochs, samples_taken_amount):\n",
    "    loss_history = []\n",
    "    for k in range(n_epochs):\n",
    "        for i in range(samples_taken_amount):\n",
    "            batch_encrypted = encrypt_batch(sample(names, 32), max_line_length)\n",
    "            batch_encrypted = torch.tensor(batch_encrypted, dtype=torch.int64).cuda()\n",
    "          \n",
    "            logp_seq = model(batch_encrypted)[0]\n",
    "          \n",
    "            # compute loss\n",
    "            predictions_logp = logp_seq[:, :-1]\n",
    "            actual_next_tokens = batch_encrypted[:, 1:]\n",
    "\n",
    "            loss = -torch.mean(torch.gather(predictions_logp, dim=2, index=actual_next_tokens[:,:,None]))\n",
    "          \n",
    "            # train with backprop\n",
    "            loss.backward()\n",
    "            optimizer.step()\n",
    "            optimizer.zero_grad()\n",
    "        \n",
    "            loss_history.append(loss.data.cpu().numpy())\n",
    "    \n",
    "        display.clear_output(wait=True)\n",
    "        plt.figure(figsize=(8, 6))\n",
    "        plt.title(\"Training loss\")\n",
    "        plt.xlabel(\"#iteration\")\n",
    "        plt.ylabel(\"loss\")\n",
    "        plt.grid()\n",
    "        plt.plot(loss_history, 'b', label=\"train loss\")\n",
    "        plt.legend()\n",
    "        plt.show()\n",
    "    return loss_history"
   ]
  },
  {
   "cell_type": "code",
   "execution_count": null,
   "metadata": {},
   "outputs": [],
   "source": [
    "n_epochs = 50\n",
    "samples_taken_amount = 200\n",
    "losses = train_NN_and_plot_loss(model, optimzer, n_epochs, samples_taken_amount)"
   ]
  },
  {
   "cell_type": "code",
   "execution_count": 0,
   "metadata": {
    "colab": {},
    "colab_type": "code",
    "id": "y6rgAvUBigIj"
   },
   "outputs": [],
   "source": [
    "def generate_sample(char_rnn, seed_phrase=' ', max_length=max_line_length, temperature=1.0):\n",
    "    '''\n",
    "    ### Disclaimer: this is an example function for text generation.\n",
    "    ### You can either adapt it in your code or create your own function\n",
    "    \n",
    "    The function generates text given a phrase of length at least SEQ_LENGTH.\n",
    "    :param seed_phrase: prefix characters. The RNN is asked to continue the phrase\n",
    "    :param max_length: maximum output length, including seed_phrase\n",
    "    :param temperature: coefficient for sampling.  higher temperature produces more chaotic outputs, \n",
    "        smaller temperature converges to the single most likely output.\n",
    "        \n",
    "    Be careful with the model output. This model waits logits (not probabilities/log-probabilities)\n",
    "    of the next symbol.\n",
    "    '''\n",
    "    \n",
    "    x_sequence = [token_to_id[token] for token in seed_phrase]\n",
    "    x_sequence = torch.tensor([x_sequence], dtype=torch.int64).cuda()\n",
    "    hid_state = None\n",
    "    \n",
    "    #feed the seed phrase, if any\n",
    "    for i in range(len(seed_phrase) - 1):\n",
    "        _, hid_state = char_rnn(x_sequence[:, i], hid_state)\n",
    "    \n",
    "    #start generating\n",
    "    for _ in range(max_length - len(seed_phrase)):\n",
    "        logp_next, hid_state = char_rnn(x_sequence[:, -1].view(1, -1), hid_state)\n",
    "        p_next = F.softmax(logp_next / temperature, dim=-1).data.cpu().numpy()[0]\n",
    "        \n",
    "        # sample next token and push it back into x_sequence\n",
    "     \n",
    "        next_ix = np.random.choice(tokens_amount, p=p_next.squeeze(0))\n",
    "        next_ix = torch.tensor([[next_ix]], dtype=torch.int64).cuda()\n",
    "        x_sequence = torch.cat([x_sequence, next_ix], dim=1)\n",
    "        \n",
    "    return ''.join([tokens[ix] for ix in x_sequence.data.cpu().numpy()[0]])"
   ]
  },
  {
   "cell_type": "code",
   "execution_count": 0,
   "metadata": {
    "colab": {},
    "colab_type": "code",
    "id": "imG-HnSS3qmO"
   },
   "outputs": [],
   "source": [
    "def generate_text(model,  temp = 1.0, length = 20):\n",
    "    for _ in range(length):\n",
    "      print(generate_sample(model, temperature = temp))"
   ]
  },
  {
   "cell_type": "code",
   "execution_count": 411,
   "metadata": {
    "colab": {
     "base_uri": "https://localhost:8080/",
     "height": 709
    },
    "colab_type": "code",
    "id": "uaVaev3FVJV_",
    "outputId": "8aa6fde2-9446-4324-c082-74aa6392620d"
   },
   "outputs": [
    {
     "name": "stdout",
     "output_type": "stream",
     "text": [
      "                                                                                                                                                                                                                                                                                                                                                        \n",
      "                                                                                                                                                                                                                                                                                                                                                        \n",
      " go a my fich or i show my i metters priatable                                                                                                                                                                                                                                                                                                          \n",
      "                                                                                                                                                                                                                                                                                                                                                        \n",
      "                                                                                                                                                                                                                                                                                                                                                        \n",
      "                                                                                                                                                                                                                                                                                                                                                        \n",
      "                                                                                                                                                                                                                                                                                                                                                        \n",
      "                                                                                                                                                                                            ,                                                                                                                                                           \n",
      "                                                                                                                                                                                                                                                                                                                                                        \n",
      "                                                                                                                                                                                                                                                                                                                                                        \n",
      "                                                                                                                                                                                                                                                                                                                                                        \n",
      "                                                                                                                                                                                                                                                                                                                                                        \n",
      "                                                                                                                                                                                                                                                                                                                                                        \n",
      "                                                                                                                                                                                                                                                                                                                                                        \n",
      " hif he lot, motimaxicaodsed this bake ngre fore evers coulds, nowzer throw 'furmor, when in me!)                                                                                                                                                                                                                                                       \n",
      "                                                                                                                                                                                                                                                                                                                                                        \n",
      "                                                                                                                                                                                                                                                                                                                                                        \n",
      " quh)                                                                                                                                                                                                                                                                                                                                                   \n",
      "                                                                                                                                                                                                                                                                                                                                                        \n",
      "                                                                                                                                                                                                                                                                                                                                                        \n",
      "                                                                                                                                                                                                                                                                                                                                                        \n",
      "                                                                                                                                                                                                                                                                                                                                                        \n",
      "                                                                                                                                                                                                                                                                                                                                                        \n",
      "                                                                                                                                                                                                                                                                                                                                                        \n",
      "                                                                                                                                                                                                                                                                                                                                                        \n",
      "                                                                                                                                                                                                                                                                                                                                                        \n",
      "                                                                                                                                                                                                                                                                                                                                                        \n",
      "                                                                                                                                                                                                                                                                                                                                                        \n",
      " could cogce wimes                                                                                                                                                                                                                                                                                                                                      \n",
      "                                                                                                                                                                                                                                                                                                                                                        \n",
      "                                                                                                                                                                                                                                                                                                                                                        \n",
      " matt the stopenser thas bote over, wanna fo lout you beftermambal we slives a mapmas, tild me.) on we left, you outced, leth the gright, i courgifayn my                                                                                                                                                                                               \n",
      "                                                                                                                                                                                                                                                                                                                                                        \n",
      "                                                                                                                                                                                                                                                                                                                                                        \n",
      "                                                                                                                                                                                                                                                                                                                                                        \n",
      " mx, tho out in the cother wed? zvensted at at ealond it                                                                                                                                                                                                                                                                                                \n",
      " mody                                                                                                                                                                                                                                                                                                                                                   \n",
      "                                                                                                                                                                                                                                                                                                                                                        \n",
      "                                                                                                                                                                                                                                                                                                                                                        \n",
      "                                                                                                                                                                                                                                                                                                                                                        \n"
     ]
    }
   ],
   "source": [
    "generate_text(model, 1.1, 40)"
   ]
  },
  {
   "cell_type": "markdown",
   "metadata": {
    "colab_type": "text",
    "id": "yLiDJ1-jigIn"
   },
   "source": [
    "### Let's use LSTM instead of vanilla RNN and compare the results."
   ]
  },
  {
   "cell_type": "code",
   "execution_count": 0,
   "metadata": {
    "colab": {},
    "colab_type": "code",
    "id": "Vl-L-mC4igIo"
   },
   "outputs": [],
   "source": [
    "class LSTM(nn.Module):\n",
    "    def __init__(self, tokens_amount=tokens_amount, emb_size=16, rnn_num_units=64):\n",
    "        super(self.__class__, self).__init__()\n",
    "        self.emb = nn.Embedding(tokens_amount, emb_size)\n",
    "        self.rnn = nn.LSTM(emb_size, rnn_num_units, batch_first=True)\n",
    "        self.hid_to_logits = nn.Linear(rnn_num_units, tokens_amount)\n",
    "        \n",
    "    def forward(self, x, hidden=None):\n",
    "        h_seq, hidden = self.rnn(self.emb(x), hidden)\n",
    "        next_logits = self.hid_to_logits(h_seq)\n",
    "        next_logp = F.log_softmax(next_logits, dim=-1)\n",
    "        return next_logp, hidden\n",
    "    \n"
   ]
  },
  {
   "cell_type": "code",
   "execution_count": 0,
   "metadata": {
    "colab": {},
    "colab_type": "code",
    "id": "mGAKLkP92T86"
   },
   "outputs": [],
   "source": [
    "model_lstm = LSTM().to(device)\n",
    "optimize_lstm = torch.optim.Adam(model_lstm.parameters())"
   ]
  },
  {
   "cell_type": "code",
   "execution_count": 414,
   "metadata": {
    "colab": {
     "base_uri": "https://localhost:8080/",
     "height": 404
    },
    "colab_type": "code",
    "id": "OZQfz3SD2t7G",
    "outputId": "47a5a163-785a-4166-f69d-740c2ec8679b"
   },
   "outputs": [
    {
     "data": {
      "image/png": "[encoded data removed]",
      "text/plain": [
       "<Figure size 576x432 with 1 Axes>"
      ]
     },
     "metadata": {
      "needs_background": "light",
      "tags": []
     },
     "output_type": "display_data"
    }
   ],
   "source": [
    "lstm_losses = train_NN_and_plot_loss(model_lstm, optimize_lstm, n_epochs, samples_taken_amount)"
   ]
  },
  {
   "cell_type": "code",
   "execution_count": 415,
   "metadata": {
    "colab": {
     "base_uri": "https://localhost:8080/",
     "height": 1000
    },
    "colab_type": "code",
    "id": "A8UuqFXoigIr",
    "outputId": "a846bdab-084e-42ce-c496-c42687d35848"
   },
   "outputs": [
    {
     "name": "stdout",
     "output_type": "stream",
     "text": [
      "=================temp = 0.1======================\n",
      "                                                                                                                                                                                                                                                                                                                                                        \n",
      "                                                                                                                                                                                                                                                                                                                                                        \n",
      "                                                                                                                                                                                                                                                                                                                                                        \n",
      "                                                                                                                                                                                                                                                                                                                                                        \n",
      "                                                                                                                                                                                                                                                                                                                                                        \n",
      "                                                                                                                                                                                                                                                                                                                                                        \n",
      "                                                                                                                                                                                                                                                                                                                                                        \n",
      "                                                                                                                                                                                                                                                                                                                                                        \n",
      "                                                                                                                                                                                                                                                                                                                                                        \n",
      "                                                                                                                                                                                                                                                                                                                                                        \n",
      "                                                                                                                                                                                                                                                                                                                                                        \n",
      "                                                                                                                                                                                                                                                                                                                                                        \n",
      "                                                                                                                                                                                                                                                                                                                                                        \n",
      "                                                                                                                                                                                                                                                                                                                                                        \n",
      "                                                                                                                                                                                                                                                                                                                                                        \n",
      "                                                                                                                                                                                                                                                                                                                                                        \n",
      "                                                                                                                                                                                                                                                                                                                                                        \n",
      "                                                                                                                                                                                                                                                                                                                                                        \n",
      "                                                                                                                                                                                                                                                                                                                                                        \n",
      "                                                                                                                                                                                                                                                                                                                                                        \n",
      "                                                                                                                                                                                                                                                                                                                                                        \n",
      "                                                                                                                                                                                                                                                                                                                                                        \n",
      "                                                                                                                                                                                                                                                                                                                                                        \n",
      "                                                                                                                                                                                                                                                                                                                                                        \n",
      "                                                                                                                                                                                                                                                                                                                                                        \n",
      "================================================\n",
      "=================temp = 0.2======================\n",
      "                                                                                                                                                                                                                                                                                                                                                        \n",
      "                                                                                                                                                                                                                                                                                                                                                        \n",
      "                                                                                                                                                                                                                                                                                                                                                        \n",
      "                                                                                                                                                                                                                                                                                                                                                        \n",
      "                                                                                                                                                                                                                                                                                                                                                        \n",
      "                                                                                                                                                                                                                                                                                                                                                        \n",
      "                                                                                                                                                                                                                                                                                                                                                        \n",
      "                                                                                                                                                                                                                                                                                                                                                        \n",
      "                                                                                                                                                                                                                                                                                                                                                        \n",
      "                                                                                                                                                                                                                                                                                                                                                        \n",
      "                                                                                                                                                                                                                                                                                                                                                        \n",
      "                                                                                                                                                                                                                                                                                                                                                        \n",
      "                                                                                                                                                                                                                                                                                                                                                        \n",
      "                                                                                                                                                                                                                                                                                                                                                        \n",
      "                                                                                                                                                                                                                                                                                                                                                        \n",
      "                                                                                                                                                                                                                                                                                                                                                        \n",
      "                                                                                                                                                                                                                                                                                                                                                        \n",
      "                                                                                                                                                                                                                                                                                                                                                        \n",
      "                                                                                                                                                                                                                                                                                                                                                        \n",
      "                                                                                                                                                                                                                                                                                                                                                        \n",
      "                                                                                                                                                                                                                                                                                                                                                        \n",
      "                                                                                                                                                                                                                                                                                                                                                        \n",
      "                                                                                                                                                                                                                                                                                                                                                        \n",
      "                                                                                                                                                                                                                                                                                                                                                        \n",
      "                                                                                                                                                                                                                                                                                                                                                        \n",
      "================================================\n",
      "=================temp = 1.0======================\n",
      " we fast a momsida                                                                                                                                                                                                                                                                                                                                      \n",
      "                                                                                                                                                                                                                                                                                                                                                        \n",
      "                                                                                                                                                                                                                                                                                                                                                        \n",
      "                                                                                                                                                                                                                                                                                                                                                        \n",
      " you potna good mame thens;nds dewe, payice                                                                                                                                                                                                                                                                                                             \n",
      "                                                                                                                                                                                                                                                                                                                                                        \n",
      "                                                                                                                                                                                                                                                                                                                                                        \n",
      " (saiy, i'm telentle are feel nitver                                                                                                                                                                                                                                                                                                                    \n",
      "                                                                                                                                                                                                                                                                                                                                                        \n",
      "                                                                                                                                                                                                                                                                                                                                                        \n",
      " te agrald fag me lood 'til it as a miches on chise                                                                                                                                                                                                                                                                                                     \n",
      " my no tenesed dreepin' un.                                                                                                                                                                                                                                                                                                                             \n",
      " just raps, man i make so wannter-wince, (neghes the res hes .e' mulsing                                                                                                                                                                                                                                                                                \n",
      "                                                                                                                                                                                                                                                                                                                                                        \n",
      " take flow?                                                                                                                                                                                                                                                                                                                                             \n",
      "                                                                                                                                                                                                                                                                                                                                                        \n",
      " you can newing in that mans it                                                                                                                                                                                                                                                                                                                         \n",
      " un you trave you was shlypical to everybody for                                                                                                                                                                                                                                                                                                        \n",
      " yo, whil? 'em to do on the romed                                                                                                                                                                                                                                                                                                                       \n",
      " mymerof and tell in me. receniboun our liend!                                                                                                                                                                                                                                                                                                          \n",
      " the bryinced corculent fone of on your sip                                                                                                                                                                                                                                                                                                             \n",
      "                                                                                                                                                                                                                                                                                                                                                        \n",
      " 'blaty                                                                                                                                                                                                                                                                                                                                                 \n",
      "                                                                                                                                                                                                                                                                                                                                                        \n",
      "                                                                                                                                                                                                                                                                                                                                                        \n",
      "================================================\n",
      "=================temp = 1.1======================\n",
      " moy had at that light) ance ascred of my spocran                                                                                                                                                                                                                                                                                                       \n",
      "                                                                                                                                                                                                                                                                                                                                                        \n",
      " myly complade up                                                                                                                                                                                                                                                                                                                                       \n",
      " palld of all.                                                                                                                                                                                                                                                                                                                                          \n",
      " lownatest it)                                                                                                                                                                                                                                                                                                                                          \n",
      "                                                                                                                                                                                                                                                                                                                                                        \n",
      "                                                                                                                                                                                                                                                                                                                                                        \n",
      "                                                                                                                                                                                                                                                                                                                                                        \n",
      "                                                                                                                                                                                                                                                                                                                                                        \n",
      " for chooring to be these ritster then droke what i coll what i'm goatetal mictle                                                                                                                                                                                                                                                                       \n",
      "                                                                                                                                                                                                                                                                                                                                                        \n",
      "                                                                                                                                                                                                                                                                                                                                                        \n",
      "                                                                                                                                                                                                                                                                                                                                                        \n",
      " all you look, pemise, i'm sounase (awain it                                                                                                                                                                                                                                                                                                            \n",
      "                                                                                                                                                                                                                                                                                                                                                        \n",
      " ull welk i okf                                                                                                                                                                                                                                                                                                                                         \n",
      "                                                                                                                                                                                                                                                                                                                                                        \n",
      "                                                                                                                                                                                                                                                                                                                                                        \n",
      "                                                                                                                                                                                                                                                                                                                                                        \n",
      " you givise i dakp, them all                                                                                                                                                                                                                                                                                                                            \n",
      "                                                                                                                                                                                                                                                                                                                                                        \n",
      " lek allen) anysh-ho-s                                                                                                                                                                                                                                                                                                                                  \n",
      "                                                                                                                                                                                                                                                                                                                                                        \n",
      " (milery! we goin't know then yeah instardudin' the choash                                                                                                                                                                                                                                                                                              \n",
      "                                                                                                                                                                                                                                                                                                                                                        \n",
      "================================================\n",
      "=================temp = 1.2======================\n",
      "                                                                                                                                                                                                                                                                                                                                                        \n",
      " (concamnins lifest, we gettlew manced trigg                                                                                                                                                                                                                                                                                                            \n",
      " my sklade or trasce on in the man it.el marn wat the plan bamigh - just (aveees opter playare                                                                                                                                                                                                                                                          \n",
      " my rears, anyt's                                                                                                                                                                                                                                                                                                                                       \n",
      " demries, and mind ald yeah, unstartbing to sit                                                                                                                                                                                                                                                                                                         \n",
      " the moed brrunt-eat gen'l the gise me! killy                                                                                                                                                                                                                                                                                                           \n",
      " ; leny wist frompuge                                                                                                                                                                                                                                                                                                                                   \n",
      " .                                                                                                                                                                                                                                                                                                                                                      \n",
      "                                                                                                                                                                                                                                                                                                                                                        \n",
      " my notnans cable                                                                                                                                                                                                                                                                                                                                       \n",
      "                                                                                                                                                                                                                                                                                                                                                        \n",
      " zlio                                                                                                                                                                                     ,                                                                                                                                                             \n",
      "                                                                                                                                                                                                                                                                                                                                                        \n",
      "                                                                                                                                                                                                                                                                                                                                                        \n",
      " wed se'e no mosh knowm listirin' (abyilf fremby,                                                                                                                                                                                                                                                                                                       \n",
      "                                                                                                                                                                                                                                                                                                                                                        \n",
      " my all if my bungents next dow , i loke you                                                                                                                                                                                                                                                                                                            \n",
      "                                                                                                                                                                                                                                                                                                                                                        \n",
      "                                                                                                                                                                                                                                                                                                                                                        \n",
      "                                                                                                                                                                                                                                                                                                                                                        \n",
      "                                                                                                                                                                                                                                                                                                                                                        \n",
      "                                                                                                                                                                                                                                                                                                                                                        \n",
      " marc proschelm, with folching                                                                                                                                                                                                                                                                                                                          \n",
      "                                                                                                                                                                                                                                                                                                                                                        \n",
      "                                                                                                                                                                                                                                                                                                                                                        \n",
      "================================================\n",
      "=================temp = 1.3======================\n",
      " live), shaver ut goid, to rhy tougetsterisy !iw                                                                                                                                                                                                                                                                                                        \n",
      " ju readdies, goddast fuck muendo, no goaying?                                                                                                                                                                                                                                                                                                          \n",
      "                                                                                                                                                                                                                                                                                                                                                        \n",
      " mumin grissidy, no!e -y're it e'm rieps stom yeah-)                                                                                                                                                                                                                                                                                                    \n",
      " fum, no?!a the prusg                                                                                                                                                                                                                                                                                                                                   \n",
      " mavincs! i do night this, frox? and dris?                                                                                                                                                                                                                                                                                                              \n",
      "                                                                                                                                                                                                                                                                                                                                                        \n",
      " cloves your enertated face                                                                                                                                                                                                                                                                                                                             \n",
      " ju an all, furby so friends                                                                                                                                                                                                                                                                                                                            \n",
      " houg op bottows own lifebles up                                                                                                                                                                                                                                                                                                                        \n",
      " placking yours didnigs opord attcargerdit's                                                                                                                                                                                                                                                                                                            \n",
      " zlusess so,, it's the wackous alay boachital , goytrat's we just uptrat'!                                                                                                                                                                                                                                                                              \n",
      " graice us rathty                                                                                                                                                                                                                                                                                                                                       \n",
      "                                                                                                                                                                                                                                                                                                                                                        \n",
      " justty                                                                                                                                                                                                                                                                                                                                                 \n",
      " you hake 'ame when i go to could just so flatty!                                                                                                                                                                                                                                                                                                       \n",
      " boldiey rhes happer acavin, do'spe (nught                                                                                                                                                                                                                                                                                                              \n",
      " jutt go!e)                                                                                                                                                                                                                                                                                                                                             \n",
      " matet mcadvions dirinebrapp                                                                                                                                                                                                                                                                                                                            \n",
      " mif i'mblay you on to nextyrh to that                                                                                                                                                                                                                                                                                                                  \n",
      "                                                                                                                                                                                                                                                                                                                                                        \n",
      "                                                                                                                                                                                                                                                                                                                                                        \n",
      "                                                                                                                                                                                                                                                                                                                                                        \n",
      "                                                                                                                                                                                                                                                                                                                                                        \n",
      "                                                                                                                                                                                                                                                                                                                                                        \n",
      "================================================\n",
      "=================temp = 1.4======================\n",
      " neas willout, jonsye out  (quilled combul (inha fwor to salizin)                                                                                                                                                                                                                                                                                       \n",
      " , your know that tres feel, a gut a virning? huply.                                                                                                                                                                                                                                                                                                    \n",
      " thistastive plagcubem out?, cleams jver pw?'rett, is flile? an you                                                                                                                                                                                                                                                                                     \n",
      " jumps conther do-unfing goters                                                                                                                                                                                                                                                                                                                         \n",
      "                                                                                                                                                                                                                                                                                                                                                        \n",
      "                                                                                                                                                                                                                                                                                                                                                        \n",
      "                                                                                                                                                                                                                                                                                                                                                        \n",
      " i gre, he, my lilion dot, by tape                                                                                                                                                                                                                                                                                                                      \n",
      " milit, i wall us tilge foal adls kill off, badkidy, closb my wand..                                                                                                                                                                                                                                                                                    \n",
      "  milhter wark tho agef                                                                                                                                                                                                                                                                                                                                 \n",
      " he knitcted, knows nevil: anyreco, mangbs mc's wamantr (evenale? he'swe rank yo and tasciric                                                                                                                                                                                                                                            ?              \n",
      " xus'e                                                                                                                                                                                                                                                                                                                                                  \n",
      "                                                                                                                                                                                                                                                                                                                                                        \n",
      " (what yue), take you trienning chout chox)                                                                                                                                                                                                                                                                                                             \n",
      " miceon's hum:zaysirs, jagser the vancered are  muraron rouggent, superisitat                                                                                                                                                                                                                                                                           \n",
      " leghtin-roue                                                                                                                                                                                                                                                                                                                                           \n",
      " eregadv, whfate, memcinizre to uppe, pookelugrbec offituindur                                                                                                                                                                                                           o                                                                              \n",
      " bill no kil is a kifw yeahien to reand?, i do-,ny, assyrecumits                                                                                                                                                                                                                                                                                        \n",
      " mill day and seed no, hic? (u)                                                                                                                                                                                                                                                                                                                         \n",
      "                                                                                                                                                                                                                                                                                                                                                        \n",
      " time to ypop rappen lewloke, whoke a strees him just it                                                                                                                                                                                                                                                              .                                 \n",
      "                                                                                                                                                                                                                                                                                                                                                        \n",
      " thermousica, i teas, he's oh whiiter, 'ley                                                                                                                                                                                                                                                                                                             \n",
      " ; frompy, day pliad that weatean, go mes?                                                                                                                                                                                                                                                                                                              \n",
      " my shraves you wannd yem ceabsmoor pidam?                                                                                                                                                                                                                                                                                                              \n",
      "================================================\n",
      "=================temp = 1.5======================\n",
      " lownwack uc; eacts ajvin' wormar                                                                                                                                                                                                                                                                                                                       \n",
      " to wrevinw alric, so rulging alon! the bleetlivey juschuranviond, timekes, when a feesits 'tayly ack                                                                                                                                                                                                                                                   \n",
      " os girlin-braves the corfec oard weec, lirp to                                                                                                                                                                                                                                                                                                         \n",
      "  upingcy!)                                                                                                                                                                                                                                                                                                                                             \n",
      " : wandipit from bet is hif you're ok thop?. shis pnarbotio knim, tighto, ad tiy                                                                                                                                                                                                                                                                        \n",
      "                                                                                                                                                                                                                                                                                                                                                        \n",
      "                                                                                                                                                                                                                                                                                                                                                        \n",
      "                                                                                                                                                                                                                                                                                                                                                        \n",
      "                                                                                                                                                                                                                                                                                                                                                        \n",
      " hhall ya be spinite is i go doose  pomme'smand.)                                                                                                                                                                                                                                                                                                       \n",
      " ya ees. frumm axescrust                                                                                                                                                                                                                                                                                                                                \n",
      " lowing of celles intry (i'm probbeezels stamont.) )nurh   meac's boob jam hokery in fay your wame (nade! ywne kits godry! - (                                                                                                                                                                                                                          \n",
      " we aresspecwulmos, but yoe kim doundexe                                                                                                                                                                                                                                                                                                                \n",
      " 'cause  maactis, i'mma.? nughtars me togcreris                                                                                                                                                                                                                                                                                                         \n",
      "                                                                                                                                                                                                                                                                                                                                                        \n",
      " roadbeared yperlinazps sleep:rimnates-beend! yque and take a renegb                                                                                                                                                                                                                                                                                    \n",
      " you   do scolcale atted, sheek, ypid this, i'm fam lifercirres, i hateckes aditainerm , wenthou's 'erfurgality, i'm toudre, i worl-in trilr, at sigle 'canes, blytruggot tcrecleen rh!emion, i wap un oful                                                                                                                                             \n",
      " done, whair withrears, throus that sup miscl parderlat, fr                                                                                                                                         (                                                                                                                                                   \n",
      " myved magctiove me! ow, ybitgen, waysted he lamgpyurfay)                                                                                                                                                                                                                                                                                               \n",
      " liof kerfstit, an'ter levep pligasads naqu)bhparinainuth coasy                                                                                                                                                                                                                                                                                         \n",
      "                                                                                                                                                                                                                                                                                                                                                        \n",
      " we prials with couldn clrow lovel), go z th? ans..; 'o ca, rephing!-!  any do that'bl qale, hahe rafee                                                                                                                                                                                                                                                 \n",
      " million rybodyt, jungabled my app, maxy'd with like                                                                                                                                                                                                                                                                                                    \n",
      " wening mothilf weakin' heain just firing lives                                                                                                                                                                                                                                                                                                         \n",
      "                                                                                                                                                                                                                                                                                                                                                        \n",
      "================================================\n",
      "=================temp = 2.0======================\n",
      " then-leebe dnig, aind tumps to bautus')sag syungmap), 'al noavil) as's aunrboct!ustsw,  screy ithe! ye. -rack a -hry? bick                                                                                                                                                                                                                             \n",
      " zly clonamet poyarfvsid) lise you've phackst bode                                                                                                                                                                                                                                                                                                      \n",
      " .  f hey:, chike an evros -led))   'is hymapphodigatofabs easic, dwrizy wadp                                                                                                       . e   n ekiny)   (peraying?), gurld clxip whattetiny who mo!eoseffiticin pobbotrowilia it?)                                                               o         \n",
      " legls mave himo-; jegtin, wuve's sonits)                                                                                                                                                                                                                                                                                                               \n",
      " imcigenn:grb'ckics, 'em'vayio)in, is? (hura jvurgajf aso falgerigrocten (hell yuewn' be, yrought).!. y hongild peirl-. you! ?baging, 'moknd(cugalo (choar y riphericed! fuzer)! ?'buacmh , gil-wyremouty! bazdound macthe-hi eh)em                                                . y (      !                                                         \n",
      " yoa, : sach? and' troat!! , i secrditiough shut my baip straince,   murrh.! d-!umpory. xi'll) polt, eand, droae inedaind, for .                                                                                                                                         ?                                                                              \n",
      "   -   y                                                       )                                                                                                                                                                                                                                                                       e                \n",
      " wrum feapiding, prin'kott if plie's chdipitor hip))                                                                                                                                                                                   ,                                                                                                                \n",
      "                                                                                                                                                                                              y                                                                                                             ?                                       i gg\n",
      " wark thiz, yo                                                                                   h           !u .haching),s'ewkefu'ge me,, yuivzes doveckscran blow                                                                                                                                                                                     \n",
      " that's uneabortyfur jlmch. m. vussome, rusetinds - low my wonsher yomg osplualibes mvifsh hyz?.!)) traighuqop?)  '      ,                                                                                                                                                              'va uhe !ourje it? kimp , rouns!-truned munhawwcugh) 'quh  por b\n",
      " it is -rew, like yikma evipre skil rop,?!u'bwar                                                                                                                                                                                                                                                                       '; e we cta've lrwt)             \n",
      " gh wark rysey aftel whrueced vox. lite,? lyres.                                                                                                                                                                                                                                                                                                     ,  \n",
      "    t                                                                                                                                                                                                                                                                                          )                                                        \n",
      " vicc.t't - dncrirg wouk)no for nomsar'm ir                                                                                                                                                            p ,                                                                                                                                              \n",
      "                                                                                                                                                                                                          '                                                                                                     '                                       \n",
      " wes kiz,er i darme, jungiey forst mingluz, ronighttl, (ra:                                                                                                                                                                                                                                                                                             \n",
      " d! all life prenta-, yravabag bun do., xhip wojakilulba off.. i's wits  un.aogurity.)a. wers fiad a ban 'cim, -) ca?'ss yout!, rubben wo-gare's pwyyt                    ?                                                        )                                                                                                                    \n",
      "  (oigimodreticrq, bamv yroke                                              -                                                          .                                                                                                                                                                                                                 \n",
      "                                                                                                               )                                                                                                                                                                                                         o               .a             \n",
      " ya d'mpvavm ax, too zoy myecanntel                                !                                                                                                                                                                                                                                                                                    \n",
      " blaib liveal, ixentrab,, micic ; mit, mus;mmoutnhiam,                                                                                                                                                                                                                                                                                                  \n",
      "  wr mmbistem-hot yonforloff, witho's vassing yo ampey                                    ' p                                                                                                   ,                        ,                                                                                                                              \n",
      "                              ,                                                                                                                                        !                                                           .                                                )                                                                   \n",
      " it's golctkiem'e pullp t,igc  mackize, welorer, just ol y.             ;                                                                                                                                                                                                                                                                               \n",
      "================================================\n"
     ]
    }
   ],
   "source": [
    "for t in [0.1, 0.2, 1.0, 1.1, 1.2, 1.3, 1.4, 1.5, 2.0]:\n",
    "  print(f'=================temp = {t}======================')\n",
    "  generate_text(model_lstm, t, 25)\n",
    "  print('================================================')"
   ]
  },
  {
   "cell_type": "markdown",
   "metadata": {
    "colab_type": "text",
    "id": "rlXbg1-S7MX1"
   },
   "source": [
    "Unfortunately my NN isn't so cool for Eminem's rap. In rap there are a lot of short lines, plenty of short words like 'ya', 'haha' etc. Al these things cause generation of nonsense even with low temperature. Because of huge amount of spaces and short words there are a lot of empty lines in geberated text even with normal temperature. \n",
    "Perhaps the reason of such poor machine-rap is small and not-cleaned training sample (I just went to the site with Marshall songs' lyrics and copied the text of 30 or 40 song from 5 different albums.) Anyway, I've tried :)"
   ]
  },
  {
   "cell_type": "markdown",
   "metadata": {
    "colab_type": "text",
    "id": "79XahCrrigIt"
   },
   "source": [
    "### Saving and loading models"
   ]
  },
  {
   "cell_type": "code",
   "execution_count": 417,
   "metadata": {
    "colab": {
     "base_uri": "https://localhost:8080/",
     "height": 1000
    },
    "colab_type": "code",
    "id": "vs_8SkJLigIu",
    "outputId": "204999af-5a52-4392-c3d7-4447d6126701"
   },
   "outputs": [
    {
     "name": "stdout",
     "output_type": "stream",
     "text": [
      " lookt me                                                                                                                                                                                                                                                                                                                                               \n",
      " you fagce it, they right. about the moon bod a whough eody, super                                                                                                                                                                                                                                                                                      \n",
      " bum whitgile fuck up on a roec                                                                                                                                                                                                                                                                                                                         \n",
      " look i'm not with at you get amonest                                                                                                                                                                                                                                                                                                                   \n",
      "                                                                                                                                                                                                                                                                                                                                                        \n",
      " the daica, anone to re i go gade alleret!, haster                                                                                                                                                                                                                                                                                                      \n",
      " lail, kill ye. alman, like a slew invile 'cause ya                                                                                                                                                                                                                                                                                                     \n",
      " look when you was now                                                                                                                                                                                                                                                                                                                                  \n",
      "                                                                                                                                                                                                                                                                                                                                                        \n",
      " free they stays could hey coud of the lasse bap                                                                                                                                                                                                                                                                                                        \n",
      " witho make amere so make at papblearfed to get up, i'm sto, a plopt?                                                                                                                                                                                                                                                                                   \n",
      " to to think i bad!, drome 'cause you for                                                                                                                                                                                                                                                                                                               \n",
      "                                                                                                                                                                                                                                                                                                                                                        \n",
      "                                                                                                                                                                                                                                                                                                                                                        \n",
      "                                                                                                                                                                                                                                                                                                                                                        \n",
      " he'll rid when the mosterf whie cause yeahsman                                                                                                                                                                                                                                                                                                         \n",
      " lowns crap)                                                                                                                                                                                                                                                                                                                                            \n",
      "                                                                                                                                                                                                                                                                                                                                                        \n",
      " mumuring you all empes my whough thated mickes is show that just was all min                                                                                                                                                                                                                                                                           \n",
      "                                                                                                                                                                                                                                                                                                                                                        \n",
      "                                                                                                                                                                                                                                                                                                                                                        \n",
      "                                                                                                                                                                                                                                                                                                                                                        \n",
      " mazity, no take a sumpmma this?                                                                                                                                                                                                                                                                                                                        \n",
      " fllea uck, noew it chip-that therocles                                                                                                                                                                                                                                                                                                                 \n",
      " mil this harching                                                                                                                                                                                                                                                                                                                                      \n",
      "                                                                                                                                                                                                                                                                                                                                                        \n",
      "                                                                                                                                                                                                                                                                                                                                                        \n",
      " trade, wittering clinale oh stomef you can't wall me for how?                                                                                                                                                                                                                                                                                          \n",
      "                                                                                                                                                                                                                                                                                                                                                        \n",
      "                                                                                                                                                                                                                                                                                                                                                        \n",
      "                                                                                                                                                                                                                                                                                                                                                        \n",
      "                                                                                                                                                                                                                                                                                                                                                        \n",
      " sometawreat from instry and is this                                                                                                                                                                                                                                                                                                                    \n",
      "                                                                                                                                                                                                                                                                                                                                                        \n",
      " demped up himser bottyo, yee?                                                                                                                                                                                                                                                                                                                          \n",
      "                                                                                                                                                                                                                                                                                                                                                        \n",
      "                                                                                                                                                                                                                                                                                                                                                        \n",
      " mick i ma it aried to tele frousing                                                                                                                                                                                                                                                                                                                    \n",
      "                                                                                                                                                                                                                                                                                                                                                        \n",
      "                                                                                                                                                                                                                                                                                                                                                        \n",
      " .                                                                                                                                                                                                                                                                                                                                                      \n",
      "                                                                                                                                                                                                                                                                                                                                                        \n",
      "                                                                                                                                                                                                                                                                                                                                                        \n",
      "                                                                                                                                                                                                                                                                                                                                                        \n",
      "                                                                                                                                                                                                                                                                                                                                                        \n",
      " qule rundy, bazuse it's though you)                                                                                                                                                                                                                                                                                                                    \n",
      "                                                                                                                                                                                                                                                                                                                                                        \n",
      "                                                                                                                                                                                                                                                                                                                                                        \n",
      "                                                                                                                                                                                                                                                                                                                                                        \n",
      "                                                                                                                                                                                                                                                                                                                                                        \n",
      "                                                                                                                                                                                                                                                                                                                                                        \n",
      "                                                                                                                                                                                                                                                                                                                                                        \n",
      " tray, baidn? (it's enver freen all had?)                                                                                                                                                                                                                                                                                                               \n",
      " you wanto ever get your wast feel or my herist to think shit a nough                                                                                                                                                                                                                                                                                   \n",
      "                                                                                                                                                                                                                                                                                                                                                        \n",
      " low me a i don't god your ence                                                                                                                                                                                                                                                                                                                         \n",
      " i starl on that ?a conchers, bring my cloods anyt monuth,                                                                                                                                                                                                                                                                                              \n",
      "                                                                                                                                                                                                                                                                                                                                                        \n",
      " you that i can see me, plashlen so my chome                                                                                                                                                                                                                                                                                                            \n",
      " with then i wants renawe my tesentalion                                                                                                                                                                                                                                                                                                                \n"
     ]
    }
   ],
   "source": [
    "torch.save(model_lstm.state_dict(), 'my_rap_generator')\n",
    "\n",
    "my_model = LSTM()\n",
    "my_model.load_state_dict(torch.load('my_rap_generator'))\n",
    "my_model.to(device)\n",
    "\n",
    "generate_text(my_model, 1.0, 60)"
   ]
  },
  {
   "cell_type": "markdown",
   "metadata": {
    "colab_type": "text",
    "id": "0npH0_Jymicm"
   },
   "source": [
    "hmm, here i got something not bad that could be a rap for someone like 6ix9ine"
   ]
  }
 ],
 "metadata": {
  "accelerator": "GPU",
  "anaconda-cloud": {},
  "colab": {
   "collapsed_sections": [],
   "name": "Lab3_DL_part3_poetry.ipynb",
   "provenance": []
  },
  "kernelspec": {
   "display_name": "Python 3",
   "language": "python",
   "name": "python3"
  },
  "language_info": {
   "codemirror_mode": {
    "name": "ipython",
    "version": 3
   },
   "file_extension": ".py",
   "mimetype": "text/x-python",
   "name": "python",
   "nbconvert_exporter": "python",
   "pygments_lexer": "ipython3",
   "version": "3.7.6"
  }
 },
 "nbformat": 4,
 "nbformat_minor": 1
}
