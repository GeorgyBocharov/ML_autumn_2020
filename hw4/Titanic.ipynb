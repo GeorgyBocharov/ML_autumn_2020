{
 "cells": [
  {
   "cell_type": "code",
   "execution_count": 16,
   "metadata": {},
   "outputs": [],
   "source": [
    "import pandas as pd\n",
    "import numpy as np\n",
    "import math\n",
    "from sklearn.preprocessing import OrdinalEncoder\n",
    "from sklearn.preprocessing import OneHotEncoder\n",
    "from sklearn.model_selection import train_test_split\n",
    "import operator\n",
    "import random\n",
    "from sklearn import metrics\n",
    "\n"
   ]
  },
  {
   "cell_type": "code",
   "execution_count": 17,
   "metadata": {},
   "outputs": [
    {
     "data": {
      "text/html": [
       "<div>\n",
       "<style scoped>\n",
       "    .dataframe tbody tr th:only-of-type {\n",
       "        vertical-align: middle;\n",
       "    }\n",
       "\n",
       "    .dataframe tbody tr th {\n",
       "        vertical-align: top;\n",
       "    }\n",
       "\n",
       "    .dataframe thead th {\n",
       "        text-align: right;\n",
       "    }\n",
       "</style>\n",
       "<table border=\"1\" class=\"dataframe\">\n",
       "  <thead>\n",
       "    <tr style=\"text-align: right;\">\n",
       "      <th></th>\n",
       "      <th>PassengerId</th>\n",
       "      <th>Survived</th>\n",
       "      <th>Pclass</th>\n",
       "      <th>Age</th>\n",
       "      <th>SibSp</th>\n",
       "      <th>Parch</th>\n",
       "      <th>Fare</th>\n",
       "    </tr>\n",
       "  </thead>\n",
       "  <tbody>\n",
       "    <tr>\n",
       "      <th>count</th>\n",
       "      <td>891.000000</td>\n",
       "      <td>891.000000</td>\n",
       "      <td>891.000000</td>\n",
       "      <td>714.000000</td>\n",
       "      <td>891.000000</td>\n",
       "      <td>891.000000</td>\n",
       "      <td>891.000000</td>\n",
       "    </tr>\n",
       "    <tr>\n",
       "      <th>mean</th>\n",
       "      <td>446.000000</td>\n",
       "      <td>0.383838</td>\n",
       "      <td>2.308642</td>\n",
       "      <td>29.699118</td>\n",
       "      <td>0.523008</td>\n",
       "      <td>0.381594</td>\n",
       "      <td>32.204208</td>\n",
       "    </tr>\n",
       "    <tr>\n",
       "      <th>std</th>\n",
       "      <td>257.353842</td>\n",
       "      <td>0.486592</td>\n",
       "      <td>0.836071</td>\n",
       "      <td>14.526497</td>\n",
       "      <td>1.102743</td>\n",
       "      <td>0.806057</td>\n",
       "      <td>49.693429</td>\n",
       "    </tr>\n",
       "    <tr>\n",
       "      <th>min</th>\n",
       "      <td>1.000000</td>\n",
       "      <td>0.000000</td>\n",
       "      <td>1.000000</td>\n",
       "      <td>0.420000</td>\n",
       "      <td>0.000000</td>\n",
       "      <td>0.000000</td>\n",
       "      <td>0.000000</td>\n",
       "    </tr>\n",
       "    <tr>\n",
       "      <th>25%</th>\n",
       "      <td>223.500000</td>\n",
       "      <td>0.000000</td>\n",
       "      <td>2.000000</td>\n",
       "      <td>20.125000</td>\n",
       "      <td>0.000000</td>\n",
       "      <td>0.000000</td>\n",
       "      <td>7.910400</td>\n",
       "    </tr>\n",
       "    <tr>\n",
       "      <th>50%</th>\n",
       "      <td>446.000000</td>\n",
       "      <td>0.000000</td>\n",
       "      <td>3.000000</td>\n",
       "      <td>28.000000</td>\n",
       "      <td>0.000000</td>\n",
       "      <td>0.000000</td>\n",
       "      <td>14.454200</td>\n",
       "    </tr>\n",
       "    <tr>\n",
       "      <th>75%</th>\n",
       "      <td>668.500000</td>\n",
       "      <td>1.000000</td>\n",
       "      <td>3.000000</td>\n",
       "      <td>38.000000</td>\n",
       "      <td>1.000000</td>\n",
       "      <td>0.000000</td>\n",
       "      <td>31.000000</td>\n",
       "    </tr>\n",
       "    <tr>\n",
       "      <th>max</th>\n",
       "      <td>891.000000</td>\n",
       "      <td>1.000000</td>\n",
       "      <td>3.000000</td>\n",
       "      <td>80.000000</td>\n",
       "      <td>8.000000</td>\n",
       "      <td>6.000000</td>\n",
       "      <td>512.329200</td>\n",
       "    </tr>\n",
       "  </tbody>\n",
       "</table>\n",
       "</div>"
      ],
      "text/plain": [
       "       PassengerId    Survived      Pclass         Age       SibSp  \\\n",
       "count   891.000000  891.000000  891.000000  714.000000  891.000000   \n",
       "mean    446.000000    0.383838    2.308642   29.699118    0.523008   \n",
       "std     257.353842    0.486592    0.836071   14.526497    1.102743   \n",
       "min       1.000000    0.000000    1.000000    0.420000    0.000000   \n",
       "25%     223.500000    0.000000    2.000000   20.125000    0.000000   \n",
       "50%     446.000000    0.000000    3.000000   28.000000    0.000000   \n",
       "75%     668.500000    1.000000    3.000000   38.000000    1.000000   \n",
       "max     891.000000    1.000000    3.000000   80.000000    8.000000   \n",
       "\n",
       "            Parch        Fare  \n",
       "count  891.000000  891.000000  \n",
       "mean     0.381594   32.204208  \n",
       "std      0.806057   49.693429  \n",
       "min      0.000000    0.000000  \n",
       "25%      0.000000    7.910400  \n",
       "50%      0.000000   14.454200  \n",
       "75%      0.000000   31.000000  \n",
       "max      6.000000  512.329200  "
      ]
     },
     "execution_count": 17,
     "metadata": {},
     "output_type": "execute_result"
    }
   ],
   "source": [
    "dataset = pd.read_csv('train.csv', delimiter=',', header=0)\n",
    "dataset.describe()"
   ]
  },
  {
   "cell_type": "code",
   "execution_count": 18,
   "metadata": {},
   "outputs": [
    {
     "data": {
      "text/html": [
       "<div>\n",
       "<style scoped>\n",
       "    .dataframe tbody tr th:only-of-type {\n",
       "        vertical-align: middle;\n",
       "    }\n",
       "\n",
       "    .dataframe tbody tr th {\n",
       "        vertical-align: top;\n",
       "    }\n",
       "\n",
       "    .dataframe thead th {\n",
       "        text-align: right;\n",
       "    }\n",
       "</style>\n",
       "<table border=\"1\" class=\"dataframe\">\n",
       "  <thead>\n",
       "    <tr style=\"text-align: right;\">\n",
       "      <th></th>\n",
       "      <th>PassengerId</th>\n",
       "      <th>Survived</th>\n",
       "      <th>Pclass</th>\n",
       "      <th>Name</th>\n",
       "      <th>Sex</th>\n",
       "      <th>Age</th>\n",
       "      <th>SibSp</th>\n",
       "      <th>Parch</th>\n",
       "      <th>Ticket</th>\n",
       "      <th>Fare</th>\n",
       "      <th>Cabin</th>\n",
       "      <th>Embarked</th>\n",
       "    </tr>\n",
       "  </thead>\n",
       "  <tbody>\n",
       "    <tr>\n",
       "      <th>0</th>\n",
       "      <td>1</td>\n",
       "      <td>0</td>\n",
       "      <td>3</td>\n",
       "      <td>Braund, Mr. Owen Harris</td>\n",
       "      <td>male</td>\n",
       "      <td>22.0</td>\n",
       "      <td>1</td>\n",
       "      <td>0</td>\n",
       "      <td>A/5 21171</td>\n",
       "      <td>7.2500</td>\n",
       "      <td>NaN</td>\n",
       "      <td>S</td>\n",
       "    </tr>\n",
       "    <tr>\n",
       "      <th>1</th>\n",
       "      <td>2</td>\n",
       "      <td>1</td>\n",
       "      <td>1</td>\n",
       "      <td>Cumings, Mrs. John Bradley (Florence Briggs Th...</td>\n",
       "      <td>female</td>\n",
       "      <td>38.0</td>\n",
       "      <td>1</td>\n",
       "      <td>0</td>\n",
       "      <td>PC 17599</td>\n",
       "      <td>71.2833</td>\n",
       "      <td>C85</td>\n",
       "      <td>C</td>\n",
       "    </tr>\n",
       "    <tr>\n",
       "      <th>2</th>\n",
       "      <td>3</td>\n",
       "      <td>1</td>\n",
       "      <td>3</td>\n",
       "      <td>Heikkinen, Miss. Laina</td>\n",
       "      <td>female</td>\n",
       "      <td>26.0</td>\n",
       "      <td>0</td>\n",
       "      <td>0</td>\n",
       "      <td>STON/O2. 3101282</td>\n",
       "      <td>7.9250</td>\n",
       "      <td>NaN</td>\n",
       "      <td>S</td>\n",
       "    </tr>\n",
       "    <tr>\n",
       "      <th>3</th>\n",
       "      <td>4</td>\n",
       "      <td>1</td>\n",
       "      <td>1</td>\n",
       "      <td>Futrelle, Mrs. Jacques Heath (Lily May Peel)</td>\n",
       "      <td>female</td>\n",
       "      <td>35.0</td>\n",
       "      <td>1</td>\n",
       "      <td>0</td>\n",
       "      <td>113803</td>\n",
       "      <td>53.1000</td>\n",
       "      <td>C123</td>\n",
       "      <td>S</td>\n",
       "    </tr>\n",
       "    <tr>\n",
       "      <th>4</th>\n",
       "      <td>5</td>\n",
       "      <td>0</td>\n",
       "      <td>3</td>\n",
       "      <td>Allen, Mr. William Henry</td>\n",
       "      <td>male</td>\n",
       "      <td>35.0</td>\n",
       "      <td>0</td>\n",
       "      <td>0</td>\n",
       "      <td>373450</td>\n",
       "      <td>8.0500</td>\n",
       "      <td>NaN</td>\n",
       "      <td>S</td>\n",
       "    </tr>\n",
       "  </tbody>\n",
       "</table>\n",
       "</div>"
      ],
      "text/plain": [
       "   PassengerId  Survived  Pclass  \\\n",
       "0            1         0       3   \n",
       "1            2         1       1   \n",
       "2            3         1       3   \n",
       "3            4         1       1   \n",
       "4            5         0       3   \n",
       "\n",
       "                                                Name     Sex   Age  SibSp  \\\n",
       "0                            Braund, Mr. Owen Harris    male  22.0      1   \n",
       "1  Cumings, Mrs. John Bradley (Florence Briggs Th...  female  38.0      1   \n",
       "2                             Heikkinen, Miss. Laina  female  26.0      0   \n",
       "3       Futrelle, Mrs. Jacques Heath (Lily May Peel)  female  35.0      1   \n",
       "4                           Allen, Mr. William Henry    male  35.0      0   \n",
       "\n",
       "   Parch            Ticket     Fare Cabin Embarked  \n",
       "0      0         A/5 21171   7.2500   NaN        S  \n",
       "1      0          PC 17599  71.2833   C85        C  \n",
       "2      0  STON/O2. 3101282   7.9250   NaN        S  \n",
       "3      0            113803  53.1000  C123        S  \n",
       "4      0            373450   8.0500   NaN        S  "
      ]
     },
     "execution_count": 18,
     "metadata": {},
     "output_type": "execute_result"
    }
   ],
   "source": [
    "dataset.head()"
   ]
  },
  {
   "cell_type": "code",
   "execution_count": 19,
   "metadata": {},
   "outputs": [
    {
     "data": {
      "text/plain": [
       "PassengerId      0\n",
       "Survived         0\n",
       "Pclass           0\n",
       "Name             0\n",
       "Sex              0\n",
       "Age            177\n",
       "SibSp            0\n",
       "Parch            0\n",
       "Ticket           0\n",
       "Fare             0\n",
       "Cabin          687\n",
       "Embarked         2\n",
       "dtype: int64"
      ]
     },
     "execution_count": 19,
     "metadata": {},
     "output_type": "execute_result"
    }
   ],
   "source": [
    "dataset.isnull().sum(axis = 0)"
   ]
  },
  {
   "cell_type": "code",
   "execution_count": 20,
   "metadata": {},
   "outputs": [
    {
     "data": {
      "text/plain": [
       "S    644\n",
       "C    168\n",
       "Q     77\n",
       "Name: Embarked, dtype: int64"
      ]
     },
     "execution_count": 20,
     "metadata": {},
     "output_type": "execute_result"
    }
   ],
   "source": [
    "dataset['Embarked'].value_counts()"
   ]
  },
  {
   "cell_type": "code",
   "execution_count": 21,
   "metadata": {},
   "outputs": [],
   "source": [
    "def prepareDataSet(dataset):\n",
    "    dataset = dataset.fillna({\"Embarked\": \"S\"})\n",
    "    ord_enc = OrdinalEncoder()\n",
    "    one_hot_enc = OneHotEncoder()\n",
    "    dataset['sex_code'] = ord_enc.fit_transform(dataset[['Sex']])\n",
    "    oe_enc = OneHotEncoder()\n",
    "    oe_results = oe_enc.fit_transform(dataset[[\"Embarked\"]])\n",
    "    dataset = dataset.join(pd.DataFrame(oe_results.toarray(), columns=oe_enc.categories_))\n",
    "    return dataset\n",
    "\n",
    "def getFeaturesValues(dataset):\n",
    "    return dataset.drop(['PassengerId','Survived', 'Name', 'Sex', 'Ticket', 'Cabin', 'Embarked'], axis=1)\n",
    "\n",
    "def getPredictions(dataset):\n",
    "    return dataset['Survived']"
   ]
  },
  {
   "cell_type": "code",
   "execution_count": 22,
   "metadata": {},
   "outputs": [],
   "source": [
    "preparedDataSet = prepareDataSet(dataset)\n",
    "y_df = getPredictions(preparedDataSet)\n",
    "x_df = getFeaturesValues(preparedDataSet)"
   ]
  },
  {
   "cell_type": "code",
   "execution_count": 23,
   "metadata": {},
   "outputs": [
    {
     "data": {
      "text/html": [
       "<div>\n",
       "<style scoped>\n",
       "    .dataframe tbody tr th:only-of-type {\n",
       "        vertical-align: middle;\n",
       "    }\n",
       "\n",
       "    .dataframe tbody tr th {\n",
       "        vertical-align: top;\n",
       "    }\n",
       "\n",
       "    .dataframe thead th {\n",
       "        text-align: right;\n",
       "    }\n",
       "</style>\n",
       "<table border=\"1\" class=\"dataframe\">\n",
       "  <thead>\n",
       "    <tr style=\"text-align: right;\">\n",
       "      <th></th>\n",
       "      <th>PassengerId</th>\n",
       "      <th>Survived</th>\n",
       "      <th>Pclass</th>\n",
       "      <th>Name</th>\n",
       "      <th>Sex</th>\n",
       "      <th>Age</th>\n",
       "      <th>SibSp</th>\n",
       "      <th>Parch</th>\n",
       "      <th>Ticket</th>\n",
       "      <th>Fare</th>\n",
       "      <th>Cabin</th>\n",
       "      <th>Embarked</th>\n",
       "      <th>sex_code</th>\n",
       "      <th>(C,)</th>\n",
       "      <th>(Q,)</th>\n",
       "      <th>(S,)</th>\n",
       "    </tr>\n",
       "  </thead>\n",
       "  <tbody>\n",
       "    <tr>\n",
       "      <th>0</th>\n",
       "      <td>1</td>\n",
       "      <td>0</td>\n",
       "      <td>3</td>\n",
       "      <td>Braund, Mr. Owen Harris</td>\n",
       "      <td>male</td>\n",
       "      <td>22.0</td>\n",
       "      <td>1</td>\n",
       "      <td>0</td>\n",
       "      <td>A/5 21171</td>\n",
       "      <td>7.2500</td>\n",
       "      <td>NaN</td>\n",
       "      <td>S</td>\n",
       "      <td>1.0</td>\n",
       "      <td>0.0</td>\n",
       "      <td>0.0</td>\n",
       "      <td>1.0</td>\n",
       "    </tr>\n",
       "    <tr>\n",
       "      <th>1</th>\n",
       "      <td>2</td>\n",
       "      <td>1</td>\n",
       "      <td>1</td>\n",
       "      <td>Cumings, Mrs. John Bradley (Florence Briggs Th...</td>\n",
       "      <td>female</td>\n",
       "      <td>38.0</td>\n",
       "      <td>1</td>\n",
       "      <td>0</td>\n",
       "      <td>PC 17599</td>\n",
       "      <td>71.2833</td>\n",
       "      <td>C85</td>\n",
       "      <td>C</td>\n",
       "      <td>0.0</td>\n",
       "      <td>1.0</td>\n",
       "      <td>0.0</td>\n",
       "      <td>0.0</td>\n",
       "    </tr>\n",
       "    <tr>\n",
       "      <th>2</th>\n",
       "      <td>3</td>\n",
       "      <td>1</td>\n",
       "      <td>3</td>\n",
       "      <td>Heikkinen, Miss. Laina</td>\n",
       "      <td>female</td>\n",
       "      <td>26.0</td>\n",
       "      <td>0</td>\n",
       "      <td>0</td>\n",
       "      <td>STON/O2. 3101282</td>\n",
       "      <td>7.9250</td>\n",
       "      <td>NaN</td>\n",
       "      <td>S</td>\n",
       "      <td>0.0</td>\n",
       "      <td>0.0</td>\n",
       "      <td>0.0</td>\n",
       "      <td>1.0</td>\n",
       "    </tr>\n",
       "    <tr>\n",
       "      <th>3</th>\n",
       "      <td>4</td>\n",
       "      <td>1</td>\n",
       "      <td>1</td>\n",
       "      <td>Futrelle, Mrs. Jacques Heath (Lily May Peel)</td>\n",
       "      <td>female</td>\n",
       "      <td>35.0</td>\n",
       "      <td>1</td>\n",
       "      <td>0</td>\n",
       "      <td>113803</td>\n",
       "      <td>53.1000</td>\n",
       "      <td>C123</td>\n",
       "      <td>S</td>\n",
       "      <td>0.0</td>\n",
       "      <td>0.0</td>\n",
       "      <td>0.0</td>\n",
       "      <td>1.0</td>\n",
       "    </tr>\n",
       "    <tr>\n",
       "      <th>4</th>\n",
       "      <td>5</td>\n",
       "      <td>0</td>\n",
       "      <td>3</td>\n",
       "      <td>Allen, Mr. William Henry</td>\n",
       "      <td>male</td>\n",
       "      <td>35.0</td>\n",
       "      <td>0</td>\n",
       "      <td>0</td>\n",
       "      <td>373450</td>\n",
       "      <td>8.0500</td>\n",
       "      <td>NaN</td>\n",
       "      <td>S</td>\n",
       "      <td>1.0</td>\n",
       "      <td>0.0</td>\n",
       "      <td>0.0</td>\n",
       "      <td>1.0</td>\n",
       "    </tr>\n",
       "  </tbody>\n",
       "</table>\n",
       "</div>"
      ],
      "text/plain": [
       "   PassengerId  Survived  Pclass  \\\n",
       "0            1         0       3   \n",
       "1            2         1       1   \n",
       "2            3         1       3   \n",
       "3            4         1       1   \n",
       "4            5         0       3   \n",
       "\n",
       "                                                Name     Sex   Age  SibSp  \\\n",
       "0                            Braund, Mr. Owen Harris    male  22.0      1   \n",
       "1  Cumings, Mrs. John Bradley (Florence Briggs Th...  female  38.0      1   \n",
       "2                             Heikkinen, Miss. Laina  female  26.0      0   \n",
       "3       Futrelle, Mrs. Jacques Heath (Lily May Peel)  female  35.0      1   \n",
       "4                           Allen, Mr. William Henry    male  35.0      0   \n",
       "\n",
       "   Parch            Ticket     Fare Cabin Embarked  sex_code  (C,)  (Q,)  (S,)  \n",
       "0      0         A/5 21171   7.2500   NaN        S       1.0   0.0   0.0   1.0  \n",
       "1      0          PC 17599  71.2833   C85        C       0.0   1.0   0.0   0.0  \n",
       "2      0  STON/O2. 3101282   7.9250   NaN        S       0.0   0.0   0.0   1.0  \n",
       "3      0            113803  53.1000  C123        S       0.0   0.0   0.0   1.0  \n",
       "4      0            373450   8.0500   NaN        S       1.0   0.0   0.0   1.0  "
      ]
     },
     "execution_count": 23,
     "metadata": {},
     "output_type": "execute_result"
    }
   ],
   "source": [
    "preparedDataSet.head()"
   ]
  },
  {
   "cell_type": "code",
   "execution_count": 24,
   "metadata": {},
   "outputs": [
    {
     "data": {
      "text/plain": [
       "0    0\n",
       "1    1\n",
       "2    1\n",
       "3    1\n",
       "4    0\n",
       "Name: Survived, dtype: int64"
      ]
     },
     "execution_count": 24,
     "metadata": {},
     "output_type": "execute_result"
    }
   ],
   "source": [
    "y_df.head()"
   ]
  },
  {
   "cell_type": "code",
   "execution_count": 25,
   "metadata": {},
   "outputs": [
    {
     "data": {
      "text/html": [
       "<div>\n",
       "<style scoped>\n",
       "    .dataframe tbody tr th:only-of-type {\n",
       "        vertical-align: middle;\n",
       "    }\n",
       "\n",
       "    .dataframe tbody tr th {\n",
       "        vertical-align: top;\n",
       "    }\n",
       "\n",
       "    .dataframe thead th {\n",
       "        text-align: right;\n",
       "    }\n",
       "</style>\n",
       "<table border=\"1\" class=\"dataframe\">\n",
       "  <thead>\n",
       "    <tr style=\"text-align: right;\">\n",
       "      <th></th>\n",
       "      <th>Pclass</th>\n",
       "      <th>Age</th>\n",
       "      <th>SibSp</th>\n",
       "      <th>Parch</th>\n",
       "      <th>Fare</th>\n",
       "      <th>sex_code</th>\n",
       "      <th>(C,)</th>\n",
       "      <th>(Q,)</th>\n",
       "      <th>(S,)</th>\n",
       "    </tr>\n",
       "  </thead>\n",
       "  <tbody>\n",
       "    <tr>\n",
       "      <th>0</th>\n",
       "      <td>3</td>\n",
       "      <td>22.0</td>\n",
       "      <td>1</td>\n",
       "      <td>0</td>\n",
       "      <td>7.2500</td>\n",
       "      <td>1.0</td>\n",
       "      <td>0.0</td>\n",
       "      <td>0.0</td>\n",
       "      <td>1.0</td>\n",
       "    </tr>\n",
       "    <tr>\n",
       "      <th>1</th>\n",
       "      <td>1</td>\n",
       "      <td>38.0</td>\n",
       "      <td>1</td>\n",
       "      <td>0</td>\n",
       "      <td>71.2833</td>\n",
       "      <td>0.0</td>\n",
       "      <td>1.0</td>\n",
       "      <td>0.0</td>\n",
       "      <td>0.0</td>\n",
       "    </tr>\n",
       "    <tr>\n",
       "      <th>2</th>\n",
       "      <td>3</td>\n",
       "      <td>26.0</td>\n",
       "      <td>0</td>\n",
       "      <td>0</td>\n",
       "      <td>7.9250</td>\n",
       "      <td>0.0</td>\n",
       "      <td>0.0</td>\n",
       "      <td>0.0</td>\n",
       "      <td>1.0</td>\n",
       "    </tr>\n",
       "    <tr>\n",
       "      <th>3</th>\n",
       "      <td>1</td>\n",
       "      <td>35.0</td>\n",
       "      <td>1</td>\n",
       "      <td>0</td>\n",
       "      <td>53.1000</td>\n",
       "      <td>0.0</td>\n",
       "      <td>0.0</td>\n",
       "      <td>0.0</td>\n",
       "      <td>1.0</td>\n",
       "    </tr>\n",
       "    <tr>\n",
       "      <th>4</th>\n",
       "      <td>3</td>\n",
       "      <td>35.0</td>\n",
       "      <td>0</td>\n",
       "      <td>0</td>\n",
       "      <td>8.0500</td>\n",
       "      <td>1.0</td>\n",
       "      <td>0.0</td>\n",
       "      <td>0.0</td>\n",
       "      <td>1.0</td>\n",
       "    </tr>\n",
       "  </tbody>\n",
       "</table>\n",
       "</div>"
      ],
      "text/plain": [
       "   Pclass   Age  SibSp  Parch     Fare  sex_code  (C,)  (Q,)  (S,)\n",
       "0       3  22.0      1      0   7.2500       1.0   0.0   0.0   1.0\n",
       "1       1  38.0      1      0  71.2833       0.0   1.0   0.0   0.0\n",
       "2       3  26.0      0      0   7.9250       0.0   0.0   0.0   1.0\n",
       "3       1  35.0      1      0  53.1000       0.0   0.0   0.0   1.0\n",
       "4       3  35.0      0      0   8.0500       1.0   0.0   0.0   1.0"
      ]
     },
     "execution_count": 25,
     "metadata": {},
     "output_type": "execute_result"
    }
   ],
   "source": [
    "x_df.head()"
   ]
  },
  {
   "cell_type": "code",
   "execution_count": 26,
   "metadata": {},
   "outputs": [],
   "source": [
    "x_train, x_test, y_train, y_test = train_test_split(x_df.values, y_df.values, test_size=0.15)"
   ]
  },
  {
   "cell_type": "code",
   "execution_count": 27,
   "metadata": {},
   "outputs": [],
   "source": [
    "def entropy(y):\n",
    "    entropy = 0\n",
    "    elemNum = len(y)\n",
    "    if (elemNum == 0):\n",
    "        return 0\n",
    "    ctrDict = getLabelProbaDict(y)\n",
    "    for label in set(y):\n",
    "        labelProba = ctrDict[label]\n",
    "        entropy -=  labelProba * math.log(labelProba)\n",
    "    return entropy\n",
    "\n",
    "def getLabelProbaDict(y):\n",
    "    labels = set(y)\n",
    "    elemNum = len(y)\n",
    "    ctrDict = dict(zip(labels, np.zeros(len(labels))))\n",
    "    for i in range(len(y)):\n",
    "        ctrDict[y[i]] += 1 / elemNum\n",
    "    return ctrDict\n",
    "\n",
    "def getMaxProbaLabel(y):\n",
    "    return max(getLabelProbaDict(y).items(), key=operator.itemgetter(1))[0]\n",
    "\n",
    "def getConfidence(y):\n",
    "    return max(getLabelProbaDict(y).values())\n",
    "\n",
    "def bootstrap(x):\n",
    "    return np.random.randint(x, size = x)\n",
    "    "
   ]
  },
  {
   "cell_type": "code",
   "execution_count": 28,
   "metadata": {},
   "outputs": [],
   "source": [
    "class TreeNode:\n",
    "    threshold = float(\"Nan\")\n",
    "    feature_index = float(\"Nan\")\n",
    "    \n",
    "    left_child = None\n",
    "    right_child = None\n",
    "    \n",
    "    class_label = float(\"Nan\")\n",
    "    confidence = float(\"Nan\")\n",
    "    \n",
    "    left_indicies = []\n",
    "    right_indicies = []\n",
    "    \n",
    "    elements = 0\n",
    "    \n",
    "    features = []\n",
    "    \n",
    "    depth = float(\"Nan\")\n",
    "    max_tree_depth = float(\"Nan\")\n",
    "    \n",
    "    leaf_number = float(\"Nan\")\n",
    "    max_leaf_number = float(\"Nan\")\n",
    "    \n",
    "    max_elemens_per_node = float(\"Nan\")\n",
    "    \n",
    "    is_leaf = False\n",
    "    \n",
    "    def __init__(self, x, y, tree_depth=1, max_tree_depth=float(\"Nan\"), leaf_number=1, max_leaf_number=float(\"Nan\"), max_elemens_per_node=float(\"Nan\"), features=[]):\n",
    "        self.elements = len(y)\n",
    "        \n",
    "        \n",
    "        if (len(features) == 0):\n",
    "            self.features = np.arange(x.shape[1])\n",
    "        else:\n",
    "            self.features = features\n",
    "            \n",
    "        if (x.shape[0] != len(y)):\n",
    "            print(\"ERROR!! WRONG SHAPES\")\n",
    "            \n",
    "        \n",
    "        if (len(set(y)) == 1):\n",
    "            self.is_leaf = True\n",
    "        \n",
    "        if (not math.isnan(max_tree_depth)):\n",
    "            self.depth = tree_depth + 1\n",
    "            self.max_tree_depth = max_tree_depth\n",
    "            if (self.depth >= max_tree_depth):\n",
    "                self.is_leaf = True\n",
    "        elif (not math.isnan(max_leaf_number)):\n",
    "            self.leaf_number = leaf_number * 2\n",
    "            self.max_leaf_number = max_leaf_number\n",
    "            if (self.leaf_number > max_leaf_number or self.is_leaf):\n",
    "                self.is_leaf = True\n",
    "        elif (not math.isnan(max_elemens_per_node)):\n",
    "            self.max_elemens_per_node = max_elemens_per_node\n",
    "            if (self.elements <= max_elemens_per_node):\n",
    "                self.is_leaf = True\n",
    "        \n",
    "        if (self.is_leaf):\n",
    "            self.class_label = getMaxProbaLabel(y)\n",
    "            self.confidence = getConfidence(y)\n",
    "        else:\n",
    "            self.build(x,y)\n",
    "    \n",
    "    def predict(self, x_test, withConfidence = False):\n",
    "        res = []\n",
    "        for i in range(x_test.shape[0]):\n",
    "            res.append(self.predictOne(x_test[i], withConfidence))\n",
    "        return np.array(res)\n",
    "    \n",
    "    \n",
    "    def predictOneDictValue(self, x):\n",
    "        if (self.is_leaf):\n",
    "            return {self.class_label:self.confidence}\n",
    "        elif (math.isnan(x[self.feature_index])):\n",
    "            return self.left_child.predictOne(x)\n",
    "        elif (x[self.feature_index] < self.threshold and self.left_child != None):\n",
    "            return self.left_child.predictOne(x)\n",
    "        elif (x[self.feature_index] >= self.threshold and self.right_child != None):\n",
    "            return self.right_child.predictOne(x)\n",
    "        else:\n",
    "            print(\"ERROR! x = \" , x,\" self.left_child = \", self.left_child, \" self.right_child = \", self.right_child, \" self.is_leaf = \", self.is_leaf)\n",
    "            return -1\n",
    "    \n",
    "    def predictOne(self, x, withConfidence):\n",
    "        label = -1\n",
    "        confidence = 0\n",
    "        if (self.is_leaf):\n",
    "            label = self.class_label\n",
    "            confidence = self.confidence\n",
    "        elif (math.isnan(x[self.feature_index])):\n",
    "            left_label, left_confidence = self.left_child.predictOne(x, True)\n",
    "            right_label, right_confidence = self.right_child.predictOne(x, True)\n",
    "            if (left_confidence > right_confidence):\n",
    "                label = left_label\n",
    "                confidence = left_confidence\n",
    "            else:\n",
    "                label = right_label\n",
    "                confidence = right_confidence\n",
    "        elif (x[self.feature_index] < self.threshold and self.left_child != None):\n",
    "            if (withConfidence):\n",
    "                label, confidence = self.left_child.predictOne(x, withConfidence)\n",
    "            else:\n",
    "                label = self.left_child.predictOne(x, withConfidence)\n",
    "        elif (x[self.feature_index] >= self.threshold and self.right_child != None):\n",
    "            if (withConfidence):\n",
    "                label, confidence = self.right_child.predictOne(x, withConfidence)\n",
    "            else:\n",
    "                label = self.right_child.predictOne(x, withConfidence)\n",
    "        else:\n",
    "            print(\"ERROR! x = \" , x,\" self.left_child = \", self.left_child, \" self.right_child = \", self.right_child, \" self.is_leaf = \", self.is_leaf)\n",
    "        if (not withConfidence):\n",
    "            return label\n",
    "        else:\n",
    "            return label, confidence\n",
    "        \n",
    "    def build(self, x, y):\n",
    "        min_G = 2\n",
    "        for feature in self.features:\n",
    "            for border in set(x[:,feature]):\n",
    "                if (math.isnan(border)):\n",
    "                    continue\n",
    "                G, left, right = self.getG(x, y, feature, border)\n",
    "                if (G < min_G):\n",
    "                    min_G = G\n",
    "                    self.feature_index = feature\n",
    "                    self.threshold = border\n",
    "                    self.left_indicies = left\n",
    "                    self.right_indicies = right\n",
    "        if (min_G == 1):\n",
    "            self.is_leaf = True\n",
    "            self.class_label = getMaxProbaLabel(y)\n",
    "            self.confidence = getConfidence(y)\n",
    "        else:\n",
    "            if (len(self.left_indicies) > 0):\n",
    "                self.left_child = TreeNode(x[self.left_indicies], y[self.left_indicies], self.depth, self.max_tree_depth, self.leaf_number, self.max_leaf_number, self.max_elemens_per_node, self.features)\n",
    "            if (len(self.right_indicies) > 0):\n",
    "                self.right_child = TreeNode(x[self.right_indicies], y[self.right_indicies], self.depth, self.max_tree_depth, self.leaf_number, self.max_leaf_number, self.max_elemens_per_node, self.features)\n",
    "            \n",
    "                \n",
    "    def getG(self, x, y, feature_index, border):\n",
    "        left_indicies = []\n",
    "        right_indicies = []\n",
    "        for i in range(x.shape[0]):\n",
    "            if (math.isnan(x[i][feature_index])):\n",
    "                left_indicies.append(i)\n",
    "                right_indicies.append(i)\n",
    "            elif (x[i][feature_index] < border):\n",
    "                left_indicies.append(i)\n",
    "            else:\n",
    "                right_indicies.append(i)\n",
    "        left_power = len(left_indicies)\n",
    "        right_power = len(right_indicies)\n",
    "        total_power = left_power + right_power\n",
    "        G = left_power / total_power * entropy(y[left_indicies]) + right_power / total_power * entropy(y[right_indicies])\n",
    "        if (left_power >= len(y) or right_power >= len(y)):\n",
    "            G = 1\n",
    "        return G, left_indicies, right_indicies\n",
    "    "
   ]
  },
  {
   "cell_type": "code",
   "execution_count": 32,
   "metadata": {},
   "outputs": [],
   "source": [
    "decisionTree = TreeNode(x_train, y_train)\n"
   ]
  },
  {
   "cell_type": "code",
   "execution_count": 33,
   "metadata": {},
   "outputs": [
    {
     "name": "stdout",
     "output_type": "stream",
     "text": [
      "0.8432835820895522\n"
     ]
    }
   ],
   "source": [
    "res = decisionTree.predict(x_test)\n",
    "print(metrics.accuracy_score(y_test, res))"
   ]
  },
  {
   "cell_type": "markdown",
   "metadata": {},
   "source": [
    "accurcy score for training set"
   ]
  },
  {
   "cell_type": "code",
   "execution_count": 34,
   "metadata": {},
   "outputs": [
    {
     "name": "stdout",
     "output_type": "stream",
     "text": [
      "0.9656538969616909\n"
     ]
    }
   ],
   "source": [
    "print(metrics.accuracy_score(decisionTree.predict(x_train), y_train))"
   ]
  },
  {
   "cell_type": "markdown",
   "metadata": {},
   "source": [
    "### try to replace nan age with mean"
   ]
  },
  {
   "cell_type": "code",
   "execution_count": 35,
   "metadata": {},
   "outputs": [],
   "source": [
    "def replaceNanWithMean(x):\n",
    "    col_mean = np.nanmean(x, axis = 0)\n",
    "    inds = np.where(np.isnan(x))\n",
    "    res = x.copy()\n",
    "    res[inds] = np.take(col_mean, inds[1])\n",
    "    return res"
   ]
  },
  {
   "cell_type": "code",
   "execution_count": 36,
   "metadata": {},
   "outputs": [],
   "source": [
    "decisionTree = TreeNode(replaceNanWithMean(x_train), y_train, max_tree_depth = 50)"
   ]
  },
  {
   "cell_type": "code",
   "execution_count": 37,
   "metadata": {},
   "outputs": [
    {
     "name": "stdout",
     "output_type": "stream",
     "text": [
      "0.8059701492537313\n"
     ]
    }
   ],
   "source": [
    "res = decisionTree.predict(replaceNanWithMean(x_test))\n",
    "print(metrics.accuracy_score(y_test, res))"
   ]
  },
  {
   "cell_type": "markdown",
   "metadata": {},
   "source": [
    "As wee see, accuracy decreased"
   ]
  },
  {
   "cell_type": "markdown",
   "metadata": {},
   "source": [
    "## DecisionTree from sklearn"
   ]
  },
  {
   "cell_type": "code",
   "execution_count": 38,
   "metadata": {},
   "outputs": [
    {
     "data": {
      "text/plain": [
       "DecisionTreeClassifier(ccp_alpha=0.0, class_weight=None, criterion='entropy',\n",
       "                       max_depth=50, max_features=None, max_leaf_nodes=None,\n",
       "                       min_impurity_decrease=0.0, min_impurity_split=None,\n",
       "                       min_samples_leaf=1, min_samples_split=2,\n",
       "                       min_weight_fraction_leaf=0.0, presort='deprecated',\n",
       "                       random_state=None, splitter='best')"
      ]
     },
     "execution_count": 38,
     "metadata": {},
     "output_type": "execute_result"
    }
   ],
   "source": [
    "from sklearn.tree import DecisionTreeClassifier\n",
    "clf = DecisionTreeClassifier(criterion = 'entropy', max_depth=50)\n",
    "clf.fit(replaceNanWithMean(x_train), y_train)"
   ]
  },
  {
   "cell_type": "code",
   "execution_count": 39,
   "metadata": {},
   "outputs": [
    {
     "name": "stdout",
     "output_type": "stream",
     "text": [
      "0.7313432835820896\n"
     ]
    }
   ],
   "source": [
    "res = clf.predict(replaceNanWithMean(x_test))\n",
    "print(metrics.accuracy_score(y_test, res))"
   ]
  },
  {
   "cell_type": "markdown",
   "metadata": {},
   "source": [
    "not so good"
   ]
  },
  {
   "cell_type": "markdown",
   "metadata": {},
   "source": [
    "### try to exclude last 3 features with my TreeNode class"
   ]
  },
  {
   "cell_type": "code",
   "execution_count": 40,
   "metadata": {},
   "outputs": [],
   "source": [
    "decisionTree = TreeNode(x_train[:, :-3], y_train)"
   ]
  },
  {
   "cell_type": "code",
   "execution_count": 41,
   "metadata": {},
   "outputs": [
    {
     "name": "stdout",
     "output_type": "stream",
     "text": [
      "0.8283582089552238\n"
     ]
    }
   ],
   "source": [
    "res = decisionTree.predict(x_test)\n",
    "print(metrics.accuracy_score(y_test, res))"
   ]
  },
  {
   "cell_type": "markdown",
   "metadata": {},
   "source": [
    "As we see, accuracy decreased, so the last 3 features have some information"
   ]
  },
  {
   "cell_type": "markdown",
   "metadata": {},
   "source": [
    "### let's try the same, but using mean age instead of NaN values"
   ]
  },
  {
   "cell_type": "code",
   "execution_count": 42,
   "metadata": {},
   "outputs": [],
   "source": [
    "decisionTree = TreeNode(replaceNanWithMean(x_train[:, :-3]), y_train)"
   ]
  },
  {
   "cell_type": "code",
   "execution_count": 43,
   "metadata": {},
   "outputs": [
    {
     "name": "stdout",
     "output_type": "stream",
     "text": [
      "0.7835820895522388\n"
     ]
    }
   ],
   "source": [
    "res = decisionTree.predict(x_test)\n",
    "print(metrics.accuracy_score(y_test, res))"
   ]
  },
  {
   "cell_type": "markdown",
   "metadata": {},
   "source": [
    "So, the current strategy with placing elements with NaN values in both left and right nodes works better, than inserting mean values instead of NaNs"
   ]
  },
  {
   "cell_type": "markdown",
   "metadata": {},
   "source": [
    "## Bagging"
   ]
  },
  {
   "cell_type": "code",
   "execution_count": 114,
   "metadata": {},
   "outputs": [],
   "source": [
    "def buildBaggingGroup(x_train, y_train, number):\n",
    "    trees = []\n",
    "    for i in range(number):\n",
    "        indicies = bootstrap(len(y_train))\n",
    "        trees.append(TreeNode(x_train[indicies], y_train[indicies]))\n",
    "    return trees\n",
    "        \n",
    "def ansemblePredict(trees, x_test):\n",
    "    predictions = []\n",
    "    for tree in trees:\n",
    "        predictions.append(tree.predict(x_test))\n",
    "    return np.rint(np.mean(np.array(predictions), axis = 0))\n",
    "\n",
    "\n",
    "def ansemblePredictWithConfidence(trees, x_test):\n",
    "    prediction_labels = []\n",
    "    prediction_confidences = []\n",
    "    for tree in trees:\n",
    "        one_prediction = tree.predict(x_test, True)\n",
    "        prediction_labels.append(one_prediction[:,0])\n",
    "        prediction_confidences.append(one_prediction[:,1])\n",
    "    result = []\n",
    "    prediction_confidences = np.array(prediction_confidences).reshape(x_test.shape[0], len(trees))\n",
    "    prediction_labels = np.array(prediction_labels).reshape(x_test.shape[0], len(trees))\n",
    "    for i in range(prediction_confidences.shape[0]):\n",
    "        if (max(prediction_confidences[i]) >= 1.0):\n",
    "            total = dict()\n",
    "            for j in range(prediction_confidences.shape[1]):\n",
    "                if (prediction_confidences[i][j] >= 1.0):\n",
    "                    if (total.get(prediction_labels[i][j]) == None):\n",
    "                        total[prediction_labels[i][j]] = 0\n",
    "                    total[prediction_labels[i][j]] += 1\n",
    "            result.append(np.rint(max(total.items(), key=operator.itemgetter(1))[0]))\n",
    "        else:\n",
    "            result.append(prediction_labels[i][np.argmax(prediction_confidences[i])])\n",
    "    return np.array(result)"
   ]
  },
  {
   "cell_type": "code",
   "execution_count": 99,
   "metadata": {},
   "outputs": [
    {
     "name": "stdout",
     "output_type": "stream",
     "text": [
      "None\n"
     ]
    },
    {
     "data": {
      "text/plain": [
       "{1: 4, 4: -1}"
      ]
     },
     "execution_count": 99,
     "metadata": {},
     "output_type": "execute_result"
    }
   ],
   "source": [
    "a = {1:4}\n",
    "print(a.get(3))\n",
    "a[4] = -1\n",
    "a"
   ]
  },
  {
   "cell_type": "code",
   "execution_count": 48,
   "metadata": {},
   "outputs": [],
   "source": [
    "bagging_forest = buildBaggingGroup(x_train, y_train, 70)"
   ]
  },
  {
   "cell_type": "code",
   "execution_count": 116,
   "metadata": {},
   "outputs": [
    {
     "name": "stdout",
     "output_type": "stream",
     "text": [
      "0.8731343283582089\n"
     ]
    }
   ],
   "source": [
    "res = ansemblePredict(bagging_forest, x_test)\n",
    "print(metrics.accuracy_score(y_test, res))"
   ]
  },
  {
   "cell_type": "markdown",
   "metadata": {},
   "source": [
    "#### as we see, accuracy increased on 3 %, now will try the same bagging forest, but decision will be made according to the max confidence"
   ]
  },
  {
   "cell_type": "markdown",
   "metadata": {},
   "source": [
    "## Random Forest"
   ]
  },
  {
   "cell_type": "code",
   "execution_count": 118,
   "metadata": {},
   "outputs": [],
   "source": [
    "def buildRandomForest(x_train, y_train, number, max_features):\n",
    "    trees = []\n",
    "    for i in range(number):\n",
    "        indicies = bootstrap(len(y_train))\n",
    "        trees.append(TreeNode(x_train[indicies], y_train[indicies], features = random.sample(list(np.arange(x_train.shape[1])), max_features)))\n",
    "    return trees"
   ]
  },
  {
   "cell_type": "code",
   "execution_count": 119,
   "metadata": {},
   "outputs": [],
   "source": [
    "random_forest = buildRandomForest(x_train, y_train, 70, x_train.shape[1] - 2)"
   ]
  },
  {
   "cell_type": "code",
   "execution_count": 120,
   "metadata": {},
   "outputs": [
    {
     "name": "stdout",
     "output_type": "stream",
     "text": [
      "0.8656716417910447\n"
     ]
    }
   ],
   "source": [
    "res = ansemblePredict(random_forest, x_test)\n",
    "print(metrics.accuracy_score(y_test, res))"
   ]
  },
  {
   "cell_type": "markdown",
   "metadata": {},
   "source": [
    "## Random Forest from sklearn"
   ]
  },
  {
   "cell_type": "code",
   "execution_count": 123,
   "metadata": {},
   "outputs": [
    {
     "data": {
      "text/plain": [
       "RandomForestClassifier(bootstrap=True, ccp_alpha=0.0, class_weight=None,\n",
       "                       criterion='entropy', max_depth=None, max_features='auto',\n",
       "                       max_leaf_nodes=None, max_samples=None,\n",
       "                       min_impurity_decrease=0.0, min_impurity_split=None,\n",
       "                       min_samples_leaf=1, min_samples_split=2,\n",
       "                       min_weight_fraction_leaf=0.0, n_estimators=70,\n",
       "                       n_jobs=None, oob_score=False, random_state=42, verbose=0,\n",
       "                       warm_start=False)"
      ]
     },
     "execution_count": 123,
     "metadata": {},
     "output_type": "execute_result"
    }
   ],
   "source": [
    "from sklearn.ensemble import RandomForestClassifier\n",
    "rf_clf = RandomForestClassifier(n_estimators=70, criterion = 'entropy', random_state=42)\n",
    "rf_clf.fit(replaceNanWithMean(x_train), y_train)"
   ]
  },
  {
   "cell_type": "code",
   "execution_count": 124,
   "metadata": {},
   "outputs": [
    {
     "name": "stdout",
     "output_type": "stream",
     "text": [
      "0.7985074626865671\n"
     ]
    }
   ],
   "source": [
    "res_rf = rf_clf.predict(replaceNanWithMean(x_test))\n",
    "print(metrics.accuracy_score(y_test, res_rf))"
   ]
  },
  {
   "cell_type": "markdown",
   "metadata": {},
   "source": [
    "much better than for simple decision tree from sklearn, but still worse than my forest (because of NaNs)"
   ]
  },
  {
   "cell_type": "code",
   "execution_count": 125,
   "metadata": {},
   "outputs": [
    {
     "data": {
      "text/plain": [
       "RandomForestClassifier(bootstrap=True, ccp_alpha=0.0, class_weight=None,\n",
       "                       criterion='gini', max_depth=None, max_features='auto',\n",
       "                       max_leaf_nodes=None, max_samples=None,\n",
       "                       min_impurity_decrease=0.0, min_impurity_split=None,\n",
       "                       min_samples_leaf=1, min_samples_split=2,\n",
       "                       min_weight_fraction_leaf=0.0, n_estimators=70,\n",
       "                       n_jobs=None, oob_score=False, random_state=42, verbose=0,\n",
       "                       warm_start=False)"
      ]
     },
     "execution_count": 125,
     "metadata": {},
     "output_type": "execute_result"
    }
   ],
   "source": [
    "from sklearn.ensemble import RandomForestClassifier\n",
    "rf_clf_gini = RandomForestClassifier(n_estimators=70, criterion = 'gini', random_state=42)\n",
    "rf_clf_gini.fit(replaceNanWithMean(x_train), y_train)"
   ]
  },
  {
   "cell_type": "code",
   "execution_count": 126,
   "metadata": {},
   "outputs": [
    {
     "name": "stdout",
     "output_type": "stream",
     "text": [
      "0.8059701492537313\n"
     ]
    }
   ],
   "source": [
    "res_rf_gini = rf_clf_gini.predict(replaceNanWithMean(x_test))\n",
    "print(metrics.accuracy_score(y_test, res_rf_gini))"
   ]
  },
  {
   "cell_type": "markdown",
   "metadata": {},
   "source": [
    "As we see, Gini criterion gives better result"
   ]
  }
 ],
 "metadata": {
  "kernelspec": {
   "display_name": "Python 3",
   "language": "python",
   "name": "python3"
  },
  "language_info": {
   "codemirror_mode": {
    "name": "ipython",
    "version": 3
   },
   "file_extension": ".py",
   "mimetype": "text/x-python",
   "name": "python",
   "nbconvert_exporter": "python",
   "pygments_lexer": "ipython3",
   "version": "3.7.6"
  }
 },
 "nbformat": 4,
 "nbformat_minor": 4
}
